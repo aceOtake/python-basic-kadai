{
  "nbformat": 4,
  "nbformat_minor": 0,
  "metadata": {
    "colab": {
      "provenance": []
    },
    "kernelspec": {
      "name": "python3",
      "display_name": "Python 3"
    },
    "language_info": {
      "name": "python"
    }
  },
  "cells": [
    {
      "cell_type": "code",
      "execution_count": 8,
      "metadata": {
        "colab": {
          "base_uri": "https://localhost:8080/"
        },
        "id": "jaShAOpNafPY",
        "outputId": "02a0c549-e723-41b5-e4d6-fab35035b194"
      },
      "outputs": [
        {
          "output_type": "stream",
          "name": "stdout",
          "text": [
            "インデックス：0\t値：月曜日は晴れです\n",
            "インデックス：1\t値：火曜日は雨です\n",
            "インデックス：2\t値：水曜日は晴れです\n",
            "インデックス：3\t値：木曜日は晴れです\n",
            "インデックス：4\t値：金曜日は曇りです\n",
            "インデックス：5\t値：土曜日は曇りのち雨です\n",
            "インデックス：6\t値：日曜日は雷雨です\n",
            "*******************************\n",
            "キー：mon\t値：晴れ\n",
            "キー：tue\t値：雨\n",
            "キー：wed\t値：晴れ\n",
            "キー：thu\t値：晴れ\n",
            "キー：fri\t値：曇り\n",
            "キー：sat\t値：曇りのち雨\n",
            "キー：sun\t値：雷雨\n"
          ]
        }
      ],
      "source": [
        "# リスト\n",
        "array = ['月曜日は晴れです','火曜日は雨です','水曜日は晴れです','木曜日は晴れです','金曜日は曇りです','土曜日は曇りのち雨です','日曜日は雷雨です']\n",
        "# インデックスと値の確認\n",
        "for index,item in enumerate(array):\n",
        "  print( 'インデックス：' + str(index)  + '\\t値：' + str(item))\n",
        "\n",
        "print('*******************************')\n",
        "\n",
        "# ディクショナリ\n",
        "dictionary = {'mon' : '晴れ','tue' : '雨','wed' : '晴れ','thu' : '晴れ','fri' : '曇り','sat' : '曇りのち雨','sun' : '雷雨'}\n",
        "# キーと値の確認\n",
        "for key,value in dictionary.items():\n",
        "  print( 'キー：' + str(key)  + '\\t値：' + str(value))\n",
        "\n"
      ]
    },
    {
      "cell_type": "code",
      "source": [],
      "metadata": {
        "id": "IdzztyWObsJ8"
      },
      "execution_count": null,
      "outputs": []
    }
  ]
}