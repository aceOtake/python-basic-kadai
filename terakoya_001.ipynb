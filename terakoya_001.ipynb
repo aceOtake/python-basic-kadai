{
  "nbformat": 4,
  "nbformat_minor": 0,
  "metadata": {
    "colab": {
      "provenance": [],
      "toc_visible": true,
      "authorship_tag": "ABX9TyPeul1qu6Setd5saQB29T9K"
    },
    "kernelspec": {
      "name": "python3",
      "display_name": "Python 3"
    },
    "language_info": {
      "name": "python"
    }
  },
  "cells": [
    {
      "cell_type": "code",
      "execution_count": null,
      "metadata": {
        "colab": {
          "base_uri": "https://localhost:8080/"
        },
        "id": "Qe-zBtFemdDR",
        "outputId": "482908f2-f04e-43e2-a795-f8f16c0bad99"
      },
      "outputs": [
        {
          "output_type": "stream",
          "name": "stdout",
          "text": [
            "63\n",
            "18\n",
            "90\n",
            "<class 'float'>\n",
            "5\n"
          ]
        }
      ],
      "source": [
        "print(45+18)\n",
        "print(30-12)\n",
        "print(15*6)\n",
        "print(type(30/3))\n",
        "print(45%8)"
      ]
    },
    {
      "cell_type": "code",
      "source": [
        "print(\"今日の天気は\"+\"晴れ\")\n",
        "print(\"降水確率\" + str(50) + \"%\")\n",
        "print(\"晴れ\" *5)\n",
        "print(-100)\n",
        "print(12345678908888)"
      ],
      "metadata": {
        "colab": {
          "base_uri": "https://localhost:8080/"
        },
        "id": "lZI_3pHbmwM2",
        "outputId": "ec0827fd-0228-4ae7-c30b-9b722814d651"
      },
      "execution_count": null,
      "outputs": [
        {
          "output_type": "stream",
          "name": "stdout",
          "text": [
            "今日の天気は晴れ\n",
            "降水確率50%\n",
            "晴れ晴れ晴れ晴れ晴れ\n",
            "-100\n",
            "12345678908888\n"
          ]
        }
      ]
    },
    {
      "cell_type": "markdown",
      "source": [
        "# 課題：変数を使って四則演算しよう"
      ],
      "metadata": {
        "id": "j51zw02V977S"
      }
    },
    {
      "cell_type": "code",
      "source": [
        "# 四則演算で台形の面積を求める #\n",
        "jyouhen = 10  #上辺\n",
        "kahen = 20    #下辺\n",
        "takasa = 5    #高さ\n",
        "kousiki = \"公式：台形の面積 =（上辺＋下辺）× 高さ ÷ 2\"\n",
        "senchi = \"cm\"\n",
        "\n",
        "print(\"上辺：\" + str(jyouhen) + senchi)\n",
        "print(\"下辺：\" + str(kahen) + senchi)\n",
        "print(\"高さ：\" + str(takasa) + senchi)\n",
        "print(kousiki)\n",
        "menseki = (jyouhen + kahen) * takasa / 2\n",
        "print(\"台形の面積：\" + str(int(menseki)) + \"㎠\")"
      ],
      "metadata": {
        "colab": {
          "base_uri": "https://localhost:8080/"
        },
        "id": "pxNsbscJ-E3O",
        "outputId": "161fad58-0c88-48bb-9b7f-bcf09df58d97"
      },
      "execution_count": 6,
      "outputs": [
        {
          "output_type": "stream",
          "name": "stdout",
          "text": [
            "上辺：10cm\n",
            "下辺：20cm\n",
            "高さ：5cm\n",
            "公式：台形の面積 =（上辺＋下辺）× 高さ ÷ 2\n",
            "台形の面積：75㎠\n"
          ]
        }
      ]
    },
    {
      "cell_type": "code",
      "source": [
        "print(45+18)\n",
        "print(30-12)\n",
        "print(15*6)\n",
        "print(30/3)\n",
        "print(45%8)"
      ],
      "metadata": {
        "colab": {
          "base_uri": "https://localhost:8080/"
        },
        "id": "HQNecy6Qra-p",
        "outputId": "7765ab1e-5a5a-49b0-a223-ea58efac852e"
      },
      "execution_count": null,
      "outputs": [
        {
          "output_type": "stream",
          "name": "stdout",
          "text": [
            "63\n",
            "18\n",
            "90\n",
            "10.0\n",
            "5\n"
          ]
        }
      ]
    },
    {
      "cell_type": "code",
      "source": [
        "user_name=\"侍太郎\"\n",
        "print(user_name)"
      ],
      "metadata": {
        "colab": {
          "base_uri": "https://localhost:8080/"
        },
        "id": "Zgn3wWTPsdNn",
        "outputId": "9342c8fb-8803-4d4e-875e-699a4d4566cc"
      },
      "execution_count": null,
      "outputs": [
        {
          "output_type": "stream",
          "name": "stdout",
          "text": [
            "侍太郎\n"
          ]
        }
      ]
    },
    {
      "cell_type": "code",
      "source": [
        "user_name=\"侍太郎\"\n",
        "print(user_name)\n",
        "user_name=\"侍HANAKO\"\n",
        "print(user_name)"
      ],
      "metadata": {
        "colab": {
          "base_uri": "https://localhost:8080/"
        },
        "id": "QasR1MYCsxDf",
        "outputId": "8386427b-1e9d-49f5-8c1e-4068876e9f68"
      },
      "execution_count": null,
      "outputs": [
        {
          "output_type": "stream",
          "name": "stdout",
          "text": [
            "侍太郎\n",
            "侍HANAKO\n"
          ]
        }
      ]
    },
    {
      "cell_type": "code",
      "source": [
        "number1=5\n",
        "number2=2.5\n",
        "print(number1+number2)\n",
        "\n",
        "last_name=\"侍\"\n",
        "first_name=\"TARO\"\n",
        "print(last_name+first_name)"
      ],
      "metadata": {
        "colab": {
          "base_uri": "https://localhost:8080/"
        },
        "id": "EZ2dq3ZRs249",
        "outputId": "ba86b366-4ae8-4267-d8be-22f9ffb8f716"
      },
      "execution_count": null,
      "outputs": [
        {
          "output_type": "stream",
          "name": "stdout",
          "text": [
            "7.5\n",
            "侍TARO\n"
          ]
        }
      ]
    },
    {
      "cell_type": "markdown",
      "source": [],
      "metadata": {
        "id": "lPOLMMrDseAQ"
      }
    },
    {
      "cell_type": "markdown",
      "source": [
        "# 配列（リスト・タプル・セット）"
      ],
      "metadata": {
        "id": "ovMwMpA9rGkE"
      }
    },
    {
      "cell_type": "code",
      "source": [
        "user_name = [\"侍太郎\",\"侍一郎\",\"侍二郎\",\"侍三郎\",\"侍四郎\"]\n",
        "user_ages = [36,33,29,25,22]\n",
        "\n",
        "#要素の2番目を表示する\n",
        "print(user_name[1])\n",
        "\n",
        "#配列の全要素を表示\n",
        "print(user_ages)\n",
        "\n",
        "#配列の要素を更新\n",
        "user_name[1] = \"侍花子\"\n",
        "print(user_name[1])"
      ],
      "metadata": {
        "colab": {
          "base_uri": "https://localhost:8080/"
        },
        "id": "VSkfCFCRrIrn",
        "outputId": "dee7ad60-84f1-4210-85fa-0951c4554a72"
      },
      "execution_count": null,
      "outputs": [
        {
          "output_type": "stream",
          "name": "stdout",
          "text": [
            "侍一郎\n",
            "[36, 33, 29, 25, 22]\n",
            "侍花子\n"
          ]
        }
      ]
    },
    {
      "cell_type": "code",
      "source": [
        "user_name = [\"侍太郎\",\"侍一郎\",\"侍二郎\",\"侍三郎\",\"侍四郎\"]\n",
        "\n",
        "#要素を追加\n",
        "user_name.append(\"侍ゴロリ\")\n",
        "print(user_name)\n",
        "\n",
        "#要素を削除 (3番目を削除)\n",
        "user_name.pop(2)\n",
        "print(user_name)"
      ],
      "metadata": {
        "colab": {
          "base_uri": "https://localhost:8080/"
        },
        "id": "WRVqhnwFtvuG",
        "outputId": "432892c2-c7f6-4b14-cac0-812249f90b1c"
      },
      "execution_count": null,
      "outputs": [
        {
          "output_type": "stream",
          "name": "stdout",
          "text": [
            "['侍太郎', '侍一郎', '侍二郎', '侍三郎', '侍四郎', '侍ゴロリ']\n",
            "['侍太郎', '侍一郎', '侍三郎', '侍四郎', '侍ゴロリ']\n"
          ]
        }
      ]
    },
    {
      "cell_type": "code",
      "source": [
        "user_name = [\"侍太郎\",\"侍一郎\",\"侍二郎\",\"侍三郎\",\"侍四郎\"]\n",
        "\n",
        "print(user_name[1])\n",
        "\n",
        "user_name[1] = \"侍花子\" #要素変更\n",
        "print(user_name)\n",
        "\n",
        "user_name.append(\"侍ゴロリ\")  #要素追加\n",
        "print(user_name)\n",
        "\n",
        "user_name.pop(2)  #要素を削除 (3番目を削除)\n",
        "print(user_name)\n"
      ],
      "metadata": {
        "colab": {
          "base_uri": "https://localhost:8080/"
        },
        "id": "_p44qv18u4LI",
        "outputId": "784219b1-7690-422a-aeac-510c52dc6202"
      },
      "execution_count": null,
      "outputs": [
        {
          "output_type": "stream",
          "name": "stdout",
          "text": [
            "侍一郎\n",
            "['侍太郎', '侍花子', '侍二郎', '侍三郎', '侍四郎']\n",
            "['侍太郎', '侍花子', '侍二郎', '侍三郎', '侍四郎', '侍ゴロリ']\n",
            "['侍太郎', '侍花子', '侍三郎', '侍四郎', '侍ゴロリ']\n"
          ]
        }
      ]
    },
    {
      "cell_type": "code",
      "source": [
        "#タプル：要素の追加・変更・削除が行えない配列\n",
        "\n",
        "countory_names = (\"日本\",\"アメリカ\",\"イギリス\",\"フランス\",\"カナダ\")\n",
        "print(countory_names[2])\n",
        "\n",
        "#タプルは値の変更ができないため下記はエラーになる\n",
        "# countory_names[2] = \"ドイツ\""
      ],
      "metadata": {
        "colab": {
          "base_uri": "https://localhost:8080/"
        },
        "id": "R9GyCKWWvwbH",
        "outputId": "3316dabe-06b0-42f9-cd02-c7ab669ebb38"
      },
      "execution_count": null,
      "outputs": [
        {
          "output_type": "stream",
          "name": "stdout",
          "text": [
            "イギリス\n"
          ]
        }
      ]
    }
  ]
}